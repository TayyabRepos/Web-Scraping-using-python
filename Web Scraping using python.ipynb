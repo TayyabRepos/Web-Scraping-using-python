{
 "cells": [
  {
   "cell_type": "code",
   "execution_count": 155,
   "id": "597c08e9",
   "metadata": {},
   "outputs": [],
   "source": [
    "import requests\n",
    "import pandas as pd\n",
    "from bs4 import BeautifulSoup"
   ]
  },
  {
   "cell_type": "code",
   "execution_count": 156,
   "id": "e7aa76d9",
   "metadata": {},
   "outputs": [],
   "source": [
    "topics_url = 'https://github.com/topics/'\n",
    "response = requests.get(topics_url)\n",
    "page_content = response.text"
   ]
  },
  {
   "attachments": {},
   "cell_type": "markdown",
   "id": "68d8ec53",
   "metadata": {},
   "source": [
    "**Beautiful Soup**"
   ]
  },
  {
   "cell_type": "code",
   "execution_count": 157,
   "id": "465ff773",
   "metadata": {},
   "outputs": [],
   "source": [
    "docs = BeautifulSoup(page_content, 'html.parser')\n"
   ]
  },
  {
   "cell_type": "code",
   "execution_count": 158,
   "id": "3b953670",
   "metadata": {},
   "outputs": [],
   "source": [
    "p_title_tags = docs.find_all('p',class_=\"f3 lh-condensed mb-0 mt-1 Link--primary\")\n",
    "titles=[]\n",
    "for title in p_title_tags:\n",
    "    titles.append(title.text)\n"
   ]
  },
  {
   "cell_type": "code",
   "execution_count": 159,
   "id": "02925dd4",
   "metadata": {},
   "outputs": [],
   "source": [
    "p_desc_tags = docs.find_all('p', class_='f5 color-fg-muted mb-0 mt-1')\n",
    "descriptions=[]\n",
    "for desc in p_desc_tags:\n",
    "    descriptions.append(desc.text.strip()) #strip() removes spaces\n"
   ]
  },
  {
   "cell_type": "code",
   "execution_count": 160,
   "id": "f5ac568c",
   "metadata": {},
   "outputs": [],
   "source": [
    "links=[]\n",
    "baseURL='https://github.com'\n",
    "topics_url = docs.find_all('a', class_='no-underline flex-grow-0')\n",
    "for url in topics_url:\n",
    "    links.append(baseURL+ url['href'])\n"
   ]
  },
  {
   "cell_type": "code",
   "execution_count": 161,
   "id": "ba2403fe",
   "metadata": {},
   "outputs": [],
   "source": [
    "topics_dict = {\n",
    "    'Title':titles,\n",
    "    'Description':descriptions,\n",
    "    'Link':links\n",
    "}\n"
   ]
  },
  {
   "cell_type": "code",
   "execution_count": 162,
   "id": "a8d7ea74",
   "metadata": {},
   "outputs": [],
   "source": [
    "topics_df = pd.DataFrame(topics_dict)\n",
    "data = topics_df.to_csv('Data.csv', index=None)"
   ]
  },
  {
   "cell_type": "code",
   "execution_count": null,
   "metadata": {},
   "outputs": [],
   "source": []
  }
 ],
 "metadata": {
  "kernelspec": {
   "display_name": "Python 3 (ipykernel)",
   "language": "python",
   "name": "python3"
  },
  "language_info": {
   "codemirror_mode": {
    "name": "ipython",
    "version": 3
   },
   "file_extension": ".py",
   "mimetype": "text/x-python",
   "name": "python",
   "nbconvert_exporter": "python",
   "pygments_lexer": "ipython3",
   "version": "3.11.3"
  }
 },
 "nbformat": 4,
 "nbformat_minor": 5
}
